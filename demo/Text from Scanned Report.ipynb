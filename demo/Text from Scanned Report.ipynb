{
 "cells": [
  {
   "cell_type": "code",
   "execution_count": 1,
   "id": "58c68616",
   "metadata": {},
   "outputs": [],
   "source": [
    "import cv2"
   ]
  },
  {
   "cell_type": "code",
   "execution_count": 19,
   "id": "e9dfd1d4",
   "metadata": {},
   "outputs": [],
   "source": [
    "img = cv2.imread(\"pr.jpeg\") \n",
    "\n",
    "img1 = img[605:605+44, 70:70+236]\n",
    "bigger1 = cv2.resize(img1, (500, 200))\n",
    "gray1 = cv2.cvtColor(bigger1, cv2.COLOR_BGR2GRAY)"
   ]
  },
  {
   "cell_type": "code",
   "execution_count": 20,
   "id": "51ac1a2b",
   "metadata": {},
   "outputs": [],
   "source": [
    "img2 = img[648:648+44, 71:71+236]\n",
    "bigger2 = cv2.resize(img2, (500, 200))\n",
    "gray2 = cv2.cvtColor(bigger2, cv2.COLOR_BGR2GRAY)\n",
    "\n",
    "img3 = img[691:691+44, 71:71+236]\n",
    "bigger3 = cv2.resize(img3, (500, 200))\n",
    "gray3 = cv2.cvtColor(bigger3, cv2.COLOR_BGR2GRAY)\n",
    "\n",
    "img4 = img[735:735+44, 71:71+236]\n",
    "bigger4 = cv2.resize(img4, (500, 200))\n",
    "gray4 = cv2.cvtColor(bigger4, cv2.COLOR_BGR2GRAY)\n",
    "\n",
    "img5 = img[775:775+44, 71:71+236]\n",
    "bigger5 = cv2.resize(img5, (500, 200))\n",
    "gray5 = cv2.cvtColor(bigger5, cv2.COLOR_BGR2GRAY)\n",
    "\n",
    "img6 = img[819:819+44, 71:71+236]\n",
    "bigger6 = cv2.resize(img6, (500, 200))\n",
    "gray6 = cv2.cvtColor(bigger6, cv2.COLOR_BGR2GRAY)"
   ]
  },
  {
   "cell_type": "code",
   "execution_count": 22,
   "id": "7692189f",
   "metadata": {},
   "outputs": [
    {
     "data": {
      "text/plain": [
       "True"
      ]
     },
     "execution_count": 22,
     "metadata": {},
     "output_type": "execute_result"
    }
   ],
   "source": [
    "cv2.imwrite(\"tes1/crop1.jpg\", gray1)\n",
    "cv2.imwrite(\"tes1/crop2.jpg\", gray2)\n",
    "cv2.imwrite(\"tes1/crop3.jpg\", gray3)\n",
    "cv2.imwrite(\"tes1/crop4.jpg\", gray4)\n",
    "cv2.imwrite(\"tes1/crop5.jpg\", gray5)\n",
    "cv2.imwrite(\"tes1/crop6.jpg\", gray6)"
   ]
  },
  {
   "cell_type": "code",
   "execution_count": 23,
   "id": "25f1e1d6",
   "metadata": {},
   "outputs": [
    {
     "ename": "error",
     "evalue": "OpenCV(4.5.5) D:\\a\\opencv-python\\opencv-python\\opencv\\modules\\imgproc\\src\\resize.cpp:4052: error: (-215:Assertion failed) !ssize.empty() in function 'cv::resize'\n",
     "output_type": "error",
     "traceback": [
      "\u001b[1;31m---------------------------------------------------------------------------\u001b[0m",
      "\u001b[1;31merror\u001b[0m                                     Traceback (most recent call last)",
      "\u001b[1;32m~\\AppData\\Local\\Temp/ipykernel_7284/1588850487.py\u001b[0m in \u001b[0;36m<module>\u001b[1;34m\u001b[0m\n\u001b[0;32m      2\u001b[0m \u001b[1;33m\u001b[0m\u001b[0m\n\u001b[0;32m      3\u001b[0m \u001b[1;31m# Resize\u001b[0m\u001b[1;33m\u001b[0m\u001b[1;33m\u001b[0m\u001b[0m\n\u001b[1;32m----> 4\u001b[1;33m \u001b[0mbigger\u001b[0m \u001b[1;33m=\u001b[0m \u001b[0mcv2\u001b[0m\u001b[1;33m.\u001b[0m\u001b[0mresize\u001b[0m\u001b[1;33m(\u001b[0m\u001b[0mimage\u001b[0m\u001b[1;33m,\u001b[0m \u001b[1;33m(\u001b[0m\u001b[1;36m500\u001b[0m\u001b[1;33m,\u001b[0m \u001b[1;36m200\u001b[0m\u001b[1;33m)\u001b[0m\u001b[1;33m)\u001b[0m\u001b[1;33m\u001b[0m\u001b[1;33m\u001b[0m\u001b[0m\n\u001b[0m\u001b[0;32m      5\u001b[0m \u001b[1;33m\u001b[0m\u001b[0m\n\u001b[0;32m      6\u001b[0m \u001b[1;31m# Black and White\u001b[0m\u001b[1;33m\u001b[0m\u001b[1;33m\u001b[0m\u001b[0m\n",
      "\u001b[1;31merror\u001b[0m: OpenCV(4.5.5) D:\\a\\opencv-python\\opencv-python\\opencv\\modules\\imgproc\\src\\resize.cpp:4052: error: (-215:Assertion failed) !ssize.empty() in function 'cv::resize'\n"
     ]
    }
   ],
   "source": [
    "image = cv2.imread(\"test/crop0.jpg\")\n",
    "\n",
    "# Resize\n",
    "bigger = cv2.resize(image, (500, 200))\n",
    "\n",
    "# Black and White\n",
    "gray = cv2.cvtColor(bigger, cv2.COLOR_BGR2GRAY)\n",
    "\n",
    "# Denoising \n",
    "noiseless = cv2.fastNlMeansDenoising(gray, None, 20, 7, 21) \n",
    "\n",
    "cv2.imshow(\"Image\", gray)\n",
    "cv2.waitKey(0)"
   ]
  },
  {
   "cell_type": "code",
   "execution_count": 40,
   "id": "98d600bd",
   "metadata": {},
   "outputs": [
    {
     "data": {
      "text/plain": [
       "-1"
      ]
     },
     "execution_count": 40,
     "metadata": {},
     "output_type": "execute_result"
    }
   ],
   "source": [
    "cv2.imshow(\"Image\", gray)\n",
    "cv2.waitKey(0)"
   ]
  },
  {
   "cell_type": "code",
   "execution_count": 6,
   "id": "0ba1d7c4",
   "metadata": {},
   "outputs": [],
   "source": [
    "import cv2\n",
    "\n",
    "image = cv2.imread(\"prescription.jpeg\")\n",
    "\n",
    "x = 0\n",
    "y = 0\n",
    "for i in range(6):\n",
    "    img = image[area[1]:area[3]+x, area[0]:area[2]+y]\n",
    "    \n",
    "    \n",
    "    cv2.imshow(\"Cropped Image\", img)\n",
    "    cv2.waitKey(0)\n",
    "    x=21\n",
    "    y=22"
   ]
  },
  {
   "cell_type": "code",
   "execution_count": 4,
   "id": "6f26121f",
   "metadata": {},
   "outputs": [
    {
     "data": {
      "text/plain": [
       "(639, 480, 3)"
      ]
     },
     "execution_count": 4,
     "metadata": {},
     "output_type": "execute_result"
    }
   ],
   "source": [
    "img.shape"
   ]
  },
  {
   "cell_type": "code",
   "execution_count": null,
   "id": "b73b7282",
   "metadata": {},
   "outputs": [],
   "source": []
  }
 ],
 "metadata": {
  "kernelspec": {
   "display_name": "Python 3 (ipykernel)",
   "language": "python",
   "name": "python3"
  },
  "language_info": {
   "codemirror_mode": {
    "name": "ipython",
    "version": 3
   },
   "file_extension": ".py",
   "mimetype": "text/x-python",
   "name": "python",
   "nbconvert_exporter": "python",
   "pygments_lexer": "ipython3",
   "version": "3.9.7"
  }
 },
 "nbformat": 4,
 "nbformat_minor": 5
}
